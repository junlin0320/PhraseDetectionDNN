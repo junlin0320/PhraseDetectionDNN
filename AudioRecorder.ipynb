{
 "metadata": {
  "language_info": {
   "codemirror_mode": {
    "name": "ipython",
    "version": 3
   },
   "file_extension": ".py",
   "mimetype": "text/x-python",
   "name": "python",
   "nbconvert_exporter": "python",
   "pygments_lexer": "ipython3",
   "version": "3.8.8"
  },
  "orig_nbformat": 2,
  "kernelspec": {
   "name": "python388jvsc74a57bd0da0d925f2b3c474dc3e7eb416e9f5e9942938c5c8c8c30f12a088530ad4e176a",
   "display_name": "Python 3.8.8 64-bit ('base': conda)"
  },
  "metadata": {
   "interpreter": {
    "hash": "da0d925f2b3c474dc3e7eb416e9f5e9942938c5c8c8c30f12a088530ad4e176a"
   }
  }
 },
 "nbformat": 4,
 "nbformat_minor": 2,
 "cells": [
  {
   "cell_type": "code",
   "execution_count": 1,
   "metadata": {},
   "outputs": [],
   "source": [
    "import sounddevice as sd\n",
    "from scipy.io.wavfile import write\n",
    "import numpy as np\n",
    "import time\n"
   ]
  },
  {
   "cell_type": "code",
   "execution_count": 45,
   "metadata": {},
   "outputs": [],
   "source": [
    "# Sampling frequency\n",
    "freq = 16000\n",
    "\n",
    "# Recording duration\n",
    "duration = 2"
   ]
  },
  {
   "source": [
    "This is a helper function to record the audio and save it to a specific filename"
   ],
   "cell_type": "markdown",
   "metadata": {}
  },
  {
   "cell_type": "code",
   "execution_count": 162,
   "metadata": {},
   "outputs": [],
   "source": [
    "\n",
    "def timer(duration):\n",
    "    while duration: \n",
    "        mins, secs = divmod(duration, 60) \n",
    "        timer = f\"{mins} mins:{secs} seconds Left\"\n",
    "        print(timer, end=\" \\r\") \n",
    "        time.sleep(1) \n",
    "        duration -= 1\n",
    "        \n",
    "def record_audio(filename, fs, duration):\n",
    "    \n",
    "    print(\"Recording:\", filename)\n",
    "\n",
    "    #start recording \n",
    "    myrecording = sd.rec(int(duration * fs), samplerate=fs, channels=1, dtype= 'int16')\n",
    "\n",
    "    timer(duration)    #call timer function\n",
    "    sd.wait()\n",
    "\n",
    "    #write the data in filename and save it\n",
    "    write(filename, fs, myrecording.astype('int16'))"
   ]
  },
  {
   "cell_type": "code",
   "execution_count": 163,
   "metadata": {},
   "outputs": [
    {
     "output_type": "stream",
     "name": "stdout",
     "text": [
      "Recording: AudioSample/HelloBucky/tester.wav\n"
     ]
    }
   ],
   "source": [
    "# Start recorder with the given values of \n",
    "# duration and sample frequency\n",
    "record_audio(\"AudioSample/HelloBucky/tester.wav\", freq, duration)\n"
   ]
  },
  {
   "cell_type": "code",
   "execution_count": 164,
   "metadata": {},
   "outputs": [],
   "source": [
    "import soundfile as sf\n",
    "import wave\n",
    "\n",
    "data, fstemp = sf.read(\"AudioSample/HelloBucky/tester.wav\", dtype='int16')\n",
    "sd.play(data, fstemp)\n",
    "status = sd.wait()"
   ]
  },
  {
   "source": [
    "Record <b>HelloBucky </b> sound through a loop"
   ],
   "cell_type": "markdown",
   "metadata": {}
  },
  {
   "cell_type": "code",
   "execution_count": 198,
   "metadata": {},
   "outputs": [
    {
     "output_type": "stream",
     "name": "stdout",
     "text": [
      "Recording: AudioSample/HelloBucky/50.wav\n",
      "Recording: AudioSample/HelloBucky/51.wav\n",
      "Recording: AudioSample/HelloBucky/52.wav\n",
      "Recording: AudioSample/HelloBucky/53.wav\n",
      "Recording: AudioSample/HelloBucky/54.wav\n",
      "Recording: AudioSample/HelloBucky/55.wav\n",
      "Recording: AudioSample/HelloBucky/56.wav\n",
      "Recording: AudioSample/HelloBucky/57.wav\n",
      "Recording: AudioSample/HelloBucky/58.wav\n",
      "Recording: AudioSample/HelloBucky/59.wav\n",
      "Recording: AudioSample/HelloBucky/60.wav\n",
      "Recording: AudioSample/HelloBucky/61.wav\n",
      "Recording: AudioSample/HelloBucky/62.wav\n",
      "Recording: AudioSample/HelloBucky/63.wav\n",
      "Recording: AudioSample/HelloBucky/64.wav\n",
      "Recording: AudioSample/HelloBucky/65.wav\n",
      "Recording: AudioSample/HelloBucky/66.wav\n",
      "Recording: AudioSample/HelloBucky/67.wav\n",
      "Recording: AudioSample/HelloBucky/68.wav\n",
      "Recording: AudioSample/HelloBucky/69.wav\n",
      "Recording: AudioSample/HelloBucky/70.wav\n",
      "Recording: AudioSample/HelloBucky/71.wav\n",
      "Recording: AudioSample/HelloBucky/72.wav\n",
      "Recording: AudioSample/HelloBucky/73.wav\n",
      "Recording: AudioSample/HelloBucky/74.wav\n",
      "Recording: AudioSample/HelloBucky/75.wav\n",
      "Recording: AudioSample/HelloBucky/76.wav\n",
      "Recording: AudioSample/HelloBucky/77.wav\n",
      "Recording: AudioSample/HelloBucky/78.wav\n",
      "Recording: AudioSample/HelloBucky/79.wav\n",
      "Recording: AudioSample/HelloBucky/80.wav\n",
      "Recording: AudioSample/HelloBucky/81.wav\n",
      "Recording: AudioSample/HelloBucky/82.wav\n",
      "Recording: AudioSample/HelloBucky/83.wav\n",
      "Recording: AudioSample/HelloBucky/84.wav\n",
      "Recording: AudioSample/HelloBucky/85.wav\n",
      "Recording: AudioSample/HelloBucky/86.wav\n",
      "Recording: AudioSample/HelloBucky/87.wav\n",
      "Recording: AudioSample/HelloBucky/88.wav\n",
      "Recording: AudioSample/HelloBucky/89.wav\n",
      "Recording: AudioSample/HelloBucky/90.wav\n",
      "Recording: AudioSample/HelloBucky/91.wav\n",
      "Recording: AudioSample/HelloBucky/92.wav\n",
      "Recording: AudioSample/HelloBucky/93.wav\n",
      "Recording: AudioSample/HelloBucky/94.wav\n",
      "Recording: AudioSample/HelloBucky/95.wav\n",
      "Recording: AudioSample/HelloBucky/96.wav\n",
      "Recording: AudioSample/HelloBucky/97.wav\n",
      "Recording: AudioSample/HelloBucky/98.wav\n",
      "Recording: AudioSample/HelloBucky/99.wav\n"
     ]
    }
   ],
   "source": [
    "Loopsesh = 1\n",
    "stepsize = 50\n",
    "for x in range(0, stepsize):\n",
    "    filename = \"AudioSample/HelloBucky/\" + str(Loopsesh*stepsize+x) +\".wav\"\n",
    "    record_audio(filename, freq, duration)"
   ]
  },
  {
   "source": [
    "Record <b>MakeMeCoffee </b> sound systematically"
   ],
   "cell_type": "markdown",
   "metadata": {}
  },
  {
   "cell_type": "code",
   "execution_count": 193,
   "metadata": {},
   "outputs": [
    {
     "output_type": "stream",
     "name": "stdout",
     "text": [
      "Recording: AudioSample/MakeMeCoffee/90.wav\n",
      "Recording: AudioSample/MakeMeCoffee/91.wav\n",
      "Recording: AudioSample/MakeMeCoffee/92.wav\n",
      "Recording: AudioSample/MakeMeCoffee/93.wav\n",
      "Recording: AudioSample/MakeMeCoffee/94.wav\n",
      "Recording: AudioSample/MakeMeCoffee/95.wav\n",
      "Recording: AudioSample/MakeMeCoffee/96.wav\n",
      "Recording: AudioSample/MakeMeCoffee/97.wav\n",
      "Recording: AudioSample/MakeMeCoffee/98.wav\n",
      "Recording: AudioSample/MakeMeCoffee/99.wav\n"
     ]
    }
   ],
   "source": [
    "Loopsesh = 9\n",
    "stepsize = 10\n",
    "for x in range(0, stepsize):\n",
    "    filename = \"AudioSample/MakeMeCoffee/\" + str(Loopsesh*stepsize+x) +\".wav\"\n",
    "    record_audio(filename, freq, duration)"
   ]
  },
  {
   "source": [
    "Record <b>HandsomeBucky </b> sound "
   ],
   "cell_type": "markdown",
   "metadata": {}
  },
  {
   "cell_type": "code",
   "execution_count": 184,
   "metadata": {},
   "outputs": [
    {
     "output_type": "stream",
     "name": "stdout",
     "text": [
      "Recording: AudioSample/HandsomeBucky/90.wav\n",
      "Recording: AudioSample/HandsomeBucky/91.wav\n",
      "Recording: AudioSample/HandsomeBucky/92.wav\n",
      "Recording: AudioSample/HandsomeBucky/93.wav\n",
      "Recording: AudioSample/HandsomeBucky/94.wav\n",
      "Recording: AudioSample/HandsomeBucky/95.wav\n",
      "Recording: AudioSample/HandsomeBucky/96.wav\n",
      "Recording: AudioSample/HandsomeBucky/97.wav\n",
      "Recording: AudioSample/HandsomeBucky/98.wav\n",
      "Recording: AudioSample/HandsomeBucky/99.wav\n"
     ]
    }
   ],
   "source": [
    "Loopsesh = 9\n",
    "stepsize = 10\n",
    "for x in range(0, stepsize):\n",
    "    filename = \"AudioSample/HandsomeBucky/\" + str(Loopsesh*stepsize+x) +\".wav\"\n",
    "    record_audio(filename, freq, duration)"
   ]
  },
  {
   "source": [
    "Record <b>Random </b> sound "
   ],
   "cell_type": "markdown",
   "metadata": {}
  },
  {
   "cell_type": "code",
   "execution_count": 175,
   "metadata": {},
   "outputs": [
    {
     "output_type": "stream",
     "name": "stdout",
     "text": [
      "Recording: AudioSample/Random/50.wav\n",
      "Recording: AudioSample/Random/51.wav\n",
      "Recording: AudioSample/Random/52.wav\n",
      "Recording: AudioSample/Random/53.wav\n",
      "Recording: AudioSample/Random/54.wav\n",
      "Recording: AudioSample/Random/55.wav\n",
      "Recording: AudioSample/Random/56.wav\n",
      "Recording: AudioSample/Random/57.wav\n",
      "Recording: AudioSample/Random/58.wav\n",
      "Recording: AudioSample/Random/59.wav\n",
      "Recording: AudioSample/Random/60.wav\n",
      "Recording: AudioSample/Random/61.wav\n",
      "Recording: AudioSample/Random/62.wav\n",
      "Recording: AudioSample/Random/63.wav\n",
      "Recording: AudioSample/Random/64.wav\n",
      "Recording: AudioSample/Random/65.wav\n",
      "Recording: AudioSample/Random/66.wav\n",
      "Recording: AudioSample/Random/67.wav\n",
      "Recording: AudioSample/Random/68.wav\n",
      "Recording: AudioSample/Random/69.wav\n",
      "Recording: AudioSample/Random/70.wav\n",
      "Recording: AudioSample/Random/71.wav\n",
      "Recording: AudioSample/Random/72.wav\n",
      "Recording: AudioSample/Random/73.wav\n",
      "Recording: AudioSample/Random/74.wav\n",
      "Recording: AudioSample/Random/75.wav\n",
      "Recording: AudioSample/Random/76.wav\n",
      "Recording: AudioSample/Random/77.wav\n",
      "Recording: AudioSample/Random/78.wav\n",
      "Recording: AudioSample/Random/79.wav\n",
      "Recording: AudioSample/Random/80.wav\n",
      "Recording: AudioSample/Random/81.wav\n",
      "Recording: AudioSample/Random/82.wav\n",
      "Recording: AudioSample/Random/83.wav\n",
      "Recording: AudioSample/Random/84.wav\n",
      "Recording: AudioSample/Random/85.wav\n",
      "Recording: AudioSample/Random/86.wav\n",
      "Recording: AudioSample/Random/87.wav\n",
      "Recording: AudioSample/Random/88.wav\n",
      "Recording: AudioSample/Random/89.wav\n",
      "Recording: AudioSample/Random/90.wav\n",
      "Recording: AudioSample/Random/91.wav\n",
      "Recording: AudioSample/Random/92.wav\n",
      "Recording: AudioSample/Random/93.wav\n",
      "Recording: AudioSample/Random/94.wav\n",
      "Recording: AudioSample/Random/95.wav\n",
      "Recording: AudioSample/Random/96.wav\n",
      "Recording: AudioSample/Random/97.wav\n",
      "Recording: AudioSample/Random/98.wav\n",
      "Recording: AudioSample/Random/99.wav\n"
     ]
    }
   ],
   "source": [
    "Loopsesh = 1\n",
    "stepsize = 50\n",
    "for x in range(0, stepsize):\n",
    "    filename = \"AudioSample/Random/\" + str(Loopsesh*stepsize+x) +\".wav\"\n",
    "    record_audio(filename, freq, duration)"
   ]
  },
  {
   "cell_type": "code",
   "execution_count": 166,
   "metadata": {},
   "outputs": [
    {
     "output_type": "stream",
     "name": "stdout",
     "text": [
      "9.wav Parameters:  _wave_params(nchannels=1, sampwidth=2, framerate=16000, nframes=32000, comptype='NONE', compname='not compressed')\n8.wav Parameters:  _wave_params(nchannels=1, sampwidth=2, framerate=16000, nframes=32000, comptype='NONE', compname='not compressed')\n6.wav Parameters:  _wave_params(nchannels=1, sampwidth=2, framerate=16000, nframes=32000, comptype='NONE', compname='not compressed')\n7.wav Parameters:  _wave_params(nchannels=1, sampwidth=2, framerate=16000, nframes=32000, comptype='NONE', compname='not compressed')\n5.wav Parameters:  _wave_params(nchannels=1, sampwidth=2, framerate=16000, nframes=32000, comptype='NONE', compname='not compressed')\n4.wav Parameters:  _wave_params(nchannels=1, sampwidth=2, framerate=16000, nframes=32000, comptype='NONE', compname='not compressed')\ntester.wav Parameters:  _wave_params(nchannels=1, sampwidth=2, framerate=16000, nframes=32000, comptype='NONE', compname='not compressed')\n0.wav Parameters:  _wave_params(nchannels=1, sampwidth=2, framerate=16000, nframes=32000, comptype='NONE', compname='not compressed')\n1.wav Parameters:  _wave_params(nchannels=1, sampwidth=2, framerate=16000, nframes=32000, comptype='NONE', compname='not compressed')\n3.wav Parameters:  _wave_params(nchannels=1, sampwidth=2, framerate=16000, nframes=32000, comptype='NONE', compname='not compressed')\n2.wav Parameters:  _wave_params(nchannels=1, sampwidth=2, framerate=16000, nframes=32000, comptype='NONE', compname='not compressed')\nFound 0 bad files\n[]\n"
     ]
    }
   ],
   "source": [
    "import os\n",
    "import wave\n",
    "\n",
    "if __name__ == '__main__':\n",
    "    directory = '/Users/junlin/Desktop/697 capstone/Project/AudioSample/HelloBucky'\n",
    "    (_, _, filenames) = next(os.walk(directory))\n",
    "    bad_files = []\n",
    "    for filename in filenames:\n",
    "        if (filename[-4:] != \".wav\"):\n",
    "            continue\n",
    "        wave_filename = os.path.join(directory, filename)\n",
    "        try:\n",
    "            with wave.open(wave_filename, 'r') as file:\n",
    "                print(filename, \"Parameters: \", file.getparams())\n",
    "        except wave.Error as e:\n",
    "            bad_file_tuple = (filename, e)\n",
    "            bad_files.append(bad_file_tuple)\n",
    "\n",
    "    print(\"Found {} bad files\".format(len(bad_files)))\n",
    "    print(bad_files)"
   ]
  }
 ]
}